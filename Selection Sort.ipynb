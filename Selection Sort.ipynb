{
 "cells": [
  {
   "cell_type": "code",
   "execution_count": 3,
   "id": "1a4fd499-773a-4d83-b35b-18f6f1bf1377",
   "metadata": {},
   "outputs": [
    {
     "name": "stdout",
     "output_type": "stream",
     "text": [
      "Original array:  [32, 5, 23, 23, 566, 1222, 333, 12, 233, 45, 333, 212, 443, 454, 21, 322, 12, 54, 12, 20, 14, 10]\n",
      "Sorted array:  [5, 10, 12, 12, 12, 14, 20, 21, 23, 23, 32, 45, 54, 212, 233, 322, 333, 333, 443, 454, 566, 1222]\n"
     ]
    }
   ],
   "source": [
    "def selection_sort(arr):\n",
    "    n = len(arr)\n",
    "    for i in range(n):\n",
    "        min_idx = i\n",
    "        for j in range (i+1, n):\n",
    "            if arr[j] < arr[min_idx]:\n",
    "                min_idx = j\n",
    "        arr[i], arr[min_idx] = arr[min_idx], arr[i]\n",
    "    return arr\n",
    "\n",
    "\n",
    "# Example usage\n",
    "arr = [32,5,23,23,566,1222,333,12,233,45,333,212,443,454,21,322,12,54,12,20,14,10]\n",
    "print('Original array: ', arr)\n",
    "sorted_arr = selection_sort(arr)\n",
    "print('Sorted array: ', sorted_arr)"
   ]
  },
  {
   "cell_type": "code",
   "execution_count": null,
   "id": "cdf13f21-1b68-4f4a-a90b-3f873ee37bb9",
   "metadata": {},
   "outputs": [],
   "source": []
  }
 ],
 "metadata": {
  "kernelspec": {
   "display_name": "Python 3 (ipykernel)",
   "language": "python",
   "name": "python3"
  },
  "language_info": {
   "codemirror_mode": {
    "name": "ipython",
    "version": 3
   },
   "file_extension": ".py",
   "mimetype": "text/x-python",
   "name": "python",
   "nbconvert_exporter": "python",
   "pygments_lexer": "ipython3",
   "version": "3.11.5"
  }
 },
 "nbformat": 4,
 "nbformat_minor": 5
}
